{
 "cells": [
  {
   "cell_type": "markdown",
   "id": "3ee764e2-339b-433c-bb75-06559058e947",
   "metadata": {},
   "source": [
    "##### T test"
   ]
  },
  {
   "cell_type": "code",
   "execution_count": 17,
   "id": "2cef0f65-d992-4ed4-8666-23bf42107d88",
   "metadata": {},
   "outputs": [],
   "source": [
    "import numpy as np\n",
    "import math "
   ]
  },
  {
   "cell_type": "code",
   "execution_count": 20,
   "id": "e7edfc69-0f94-4348-9407-20bd698747c2",
   "metadata": {},
   "outputs": [
    {
     "data": {
      "text/plain": [
       "46.7"
      ]
     },
     "execution_count": 20,
     "metadata": {},
     "output_type": "execute_result"
    }
   ],
   "source": [
    "A=[45,48,46,50,47,44,49,45,46,47]\n",
    "B=[40,42,41,43,44,39,38,42,40,41]\n",
    "mean=np.mean(A)\n",
    "mean\n"
   ]
  },
  {
   "cell_type": "code",
   "execution_count": 21,
   "id": "75e2cbac-8dce-45b9-8907-ffdf34759fb8",
   "metadata": {},
   "outputs": [
    {
     "data": {
      "text/plain": [
       "41.0"
      ]
     },
     "execution_count": 21,
     "metadata": {},
     "output_type": "execute_result"
    }
   ],
   "source": [
    "mean2=np.mean(B)\n",
    "mean2"
   ]
  },
  {
   "cell_type": "code",
   "execution_count": 22,
   "id": "90a0e0fe-2ea3-4e5e-bf39-617904bf7454",
   "metadata": {},
   "outputs": [
    {
     "data": {
      "text/plain": [
       "1.7916472867168916"
      ]
     },
     "execution_count": 22,
     "metadata": {},
     "output_type": "execute_result"
    }
   ],
   "source": [
    "sd1=np.std(A)\n",
    "sd1"
   ]
  },
  {
   "cell_type": "code",
   "execution_count": 23,
   "id": "357d5274-7232-4b1b-8d63-180372d58adc",
   "metadata": {},
   "outputs": [
    {
     "data": {
      "text/plain": [
       "1.7320508075688772"
      ]
     },
     "execution_count": 23,
     "metadata": {},
     "output_type": "execute_result"
    }
   ],
   "source": [
    "sd2=np.std(B)\n",
    "sd2"
   ]
  },
  {
   "cell_type": "code",
   "execution_count": 24,
   "id": "24923f61-2b9e-4605-9e5c-364264052862",
   "metadata": {},
   "outputs": [
    {
     "data": {
      "text/plain": [
       "5.700000000000003"
      ]
     },
     "execution_count": 24,
     "metadata": {},
     "output_type": "execute_result"
    }
   ],
   "source": [
    "t=(mean-mean2)\n",
    "t"
   ]
  },
  {
   "cell_type": "code",
   "execution_count": 28,
   "id": "67074e14-37ef-426a-9545-5046b8c4170d",
   "metadata": {},
   "outputs": [
    {
     "data": {
      "text/plain": [
       "(0.32099999999999995, 0.29999999999999993)"
      ]
     },
     "execution_count": 28,
     "metadata": {},
     "output_type": "execute_result"
    }
   ],
   "source": [
    "n=10\n",
    "x=((sd1*sd1)/n)\n",
    "y=((sd2*sd2)/n)\n",
    "x,y"
   ]
  },
  {
   "cell_type": "code",
   "execution_count": 29,
   "id": "5248774a-fb27-417c-b95f-ffcb1446aa71",
   "metadata": {},
   "outputs": [
    {
     "data": {
      "text/plain": [
       "7.233176382455374"
      ]
     },
     "execution_count": 29,
     "metadata": {},
     "output_type": "execute_result"
    }
   ],
   "source": [
    "test=t/(math.sqrt(x+y))\n",
    "test"
   ]
  },
  {
   "cell_type": "code",
   "execution_count": 42,
   "id": "05be9dfb-79ef-45c8-8f83-4f8120ce264a",
   "metadata": {},
   "outputs": [
    {
     "name": "stdout",
     "output_type": "stream",
     "text": [
      "[5, 6, 5, 7, 3, 5, 11, 3, 6, 6]\n"
     ]
    }
   ],
   "source": []
  },
  {
   "cell_type": "code",
   "execution_count": null,
   "id": "2d08974f-24ff-4d30-9830-274313f66a96",
   "metadata": {},
   "outputs": [],
   "source": []
  }
 ],
 "metadata": {
  "kernelspec": {
   "display_name": "Python 3 (ipykernel)",
   "language": "python",
   "name": "python3"
  },
  "language_info": {
   "codemirror_mode": {
    "name": "ipython",
    "version": 3
   },
   "file_extension": ".py",
   "mimetype": "text/x-python",
   "name": "python",
   "nbconvert_exporter": "python",
   "pygments_lexer": "ipython3",
   "version": "3.12.4"
  }
 },
 "nbformat": 4,
 "nbformat_minor": 5
}
